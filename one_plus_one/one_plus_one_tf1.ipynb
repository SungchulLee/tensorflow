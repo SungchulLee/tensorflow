{
 "cells": [
  {
   "cell_type": "markdown",
   "metadata": {},
   "source": [
    "# One Plus One"
   ]
  },
  {
   "cell_type": "code",
   "execution_count": 8,
   "metadata": {},
   "outputs": [
    {
     "name": "stdout",
     "output_type": "stream",
     "text": [
      "2\n"
     ]
    }
   ],
   "source": [
    "import tensorflow.compat.v1 as tf; tf.disable_v2_behavior()  \n",
    "tf.reset_default_graph()\n",
    "\n",
    "a = tf.constant(1)\n",
    "b = tf.constant(1)\n",
    "c = a + b\n",
    "\n",
    "with tf.Session() as sess:\n",
    "    c_run = sess.run(c)\n",
    "    print(c_run) # 2"
   ]
  },
  {
   "cell_type": "markdown",
   "metadata": {},
   "source": [
    "# Initial Try"
   ]
  },
  {
   "cell_type": "code",
   "execution_count": 2,
   "metadata": {},
   "outputs": [
    {
     "name": "stdout",
     "output_type": "stream",
     "text": [
      "WARNING:tensorflow:From /Users/sungchullee/.local/lib/python3.7/site-packages/tensorflow_core/python/compat/v2_compat.py:65: disable_resource_variables (from tensorflow.python.ops.variable_scope) is deprecated and will be removed in a future version.\n",
      "Instructions for updating:\n",
      "non-resource variables are not supported in the long term\n",
      "Tensor(\"add:0\", shape=(), dtype=int32)\n"
     ]
    }
   ],
   "source": [
    "import tensorflow.compat.v1 as tf; tf.disable_v2_behavior() \n",
    "tf.reset_default_graph()\n",
    "\n",
    "a = tf.constant(1)\n",
    "b = tf.constant(1)\n",
    "c = a + b\n",
    "\n",
    "print(c) # Tensor(\"add:0\", shape=(), dtype=int32)"
   ]
  },
  {
   "cell_type": "markdown",
   "metadata": {},
   "source": [
    "# Final Version"
   ]
  },
  {
   "cell_type": "code",
   "execution_count": 3,
   "metadata": {},
   "outputs": [
    {
     "name": "stdout",
     "output_type": "stream",
     "text": [
      "2\n"
     ]
    }
   ],
   "source": [
    "import tensorflow.compat.v1 as tf; tf.disable_v2_behavior() \n",
    "tf.reset_default_graph()\n",
    "\n",
    "# Construction of Graph\n",
    "a = tf.constant(1)\n",
    "b = tf.constant(1)\n",
    "c = a + b\n",
    "\n",
    "# Evaluation of Tensors \n",
    "with tf.Session() as sess:\n",
    "    c_run = sess.run(c)\n",
    "    print(c_run) # 2"
   ]
  },
  {
   "cell_type": "markdown",
   "metadata": {},
   "source": [
    "# Check"
   ]
  },
  {
   "cell_type": "code",
   "execution_count": 12,
   "metadata": {},
   "outputs": [
    {
     "name": "stdout",
     "output_type": "stream",
     "text": [
      "Tensor(\"add:0\", shape=(), dtype=int32)\n",
      "--------------------------------------------------\n",
      "2\n",
      "Tensor(\"add:0\", shape=(), dtype=int32)\n",
      "--------------------------------------------------\n",
      "2\n",
      "Tensor(\"add:0\", shape=(), dtype=int32)\n"
     ]
    }
   ],
   "source": [
    "import tensorflow.compat.v1 as tf; tf.disable_v2_behavior() \n",
    "tf.reset_default_graph()\n",
    "\n",
    "a = tf.constant(1)\n",
    "b = tf.constant(1)\n",
    "c = a + b\n",
    "\n",
    "print(c) # Tensor(\"add:0\", shape=(), dtype=int32)\n",
    "print('-'*50)\n",
    "\n",
    "with tf.Session() as sess:\n",
    "    c_run = sess.run(c)\n",
    "    print(c_run) # 2\n",
    "    print(c) # Tensor(\"add:0\", shape=(), dtype=int32)\n",
    "    print('-'*50)\n",
    "    \n",
    "print(c_run) # 2\n",
    "print(c) # Tensor(\"add:0\", shape=(), dtype=int32)"
   ]
  },
  {
   "cell_type": "markdown",
   "metadata": {},
   "source": [
    "# Graphs"
   ]
  },
  {
   "cell_type": "code",
   "execution_count": 15,
   "metadata": {},
   "outputs": [
    {
     "name": "stdout",
     "output_type": "stream",
     "text": [
      "<tensorflow.python.framework.ops.Graph object at 0x7fcd38daa350>\n",
      "--------------------------------------------------\n",
      "<tensorflow.python.framework.ops.Graph object at 0x7fcd38daa350>\n",
      "--------------------------------------------------\n",
      "<tensorflow.python.framework.ops.Graph object at 0x7fcd38daa350>\n",
      "--------------------------------------------------\n",
      "<tensorflow.python.framework.ops.Graph object at 0x7fcd38daa350>\n"
     ]
    }
   ],
   "source": [
    "import tensorflow.compat.v1 as tf; tf.disable_v2_behavior() \n",
    "tf.reset_default_graph()\n",
    "\n",
    "g = tf.get_default_graph()\n",
    "print(g)\n",
    "print('-'*50)\n",
    "\n",
    "a = tf.constant(1)\n",
    "g = tf.get_default_graph()\n",
    "print(g)\n",
    "print('-'*50)\n",
    "\n",
    "b = tf.constant(1)\n",
    "g = tf.get_default_graph()\n",
    "print(g)\n",
    "print('-'*50)\n",
    "\n",
    "c = a + b\n",
    "g = tf.get_default_graph()\n",
    "print(g)"
   ]
  },
  {
   "cell_type": "markdown",
   "metadata": {},
   "source": [
    "# Operations"
   ]
  },
  {
   "cell_type": "code",
   "execution_count": 28,
   "metadata": {},
   "outputs": [
    {
     "name": "stdout",
     "output_type": "stream",
     "text": [
      "[]\n",
      "--------------------------------------------------\n",
      "[<tf.Operation 'Const' type=Const>]\n",
      "--------------------------------------------------\n",
      "[<tf.Operation 'Const' type=Const>, <tf.Operation 'Const_1' type=Const>]\n",
      "--------------------------------------------------\n",
      "[<tf.Operation 'Const' type=Const>, <tf.Operation 'Const_1' type=Const>, <tf.Operation 'add' type=AddV2>]\n",
      "--------------------------------------------------\n"
     ]
    }
   ],
   "source": [
    "import tensorflow.compat.v1 as tf; tf.disable_v2_behavior() \n",
    "tf.reset_default_graph()\n",
    "\n",
    "g = tf.get_default_graph() # graph object\n",
    "ops = g.get_operations()\n",
    "print(ops)\n",
    "print('-'*50)\n",
    "\n",
    "a = tf.constant(1)\n",
    "ops = g.get_operations()\n",
    "print(ops)\n",
    "print('-'*50)\n",
    "\n",
    "b = tf.constant(1)\n",
    "ops = g.get_operations()\n",
    "print(ops)\n",
    "print('-'*50)\n",
    "\n",
    "c = a + b\n",
    "ops = g.get_operations()\n",
    "print(ops)\n",
    "print('-'*50)"
   ]
  },
  {
   "cell_type": "markdown",
   "metadata": {},
   "source": [
    "# Operation Name"
   ]
  },
  {
   "cell_type": "code",
   "execution_count": 33,
   "metadata": {},
   "outputs": [
    {
     "name": "stdout",
     "output_type": "stream",
     "text": [
      "--------------------------------------------------\n",
      "First\n",
      "--------------------------------------------------\n",
      "First\n",
      "Second\n",
      "--------------------------------------------------\n",
      "First\n",
      "Second\n",
      "Third\n",
      "--------------------------------------------------\n"
     ]
    }
   ],
   "source": [
    "import tensorflow.compat.v1 as tf; tf.disable_v2_behavior() \n",
    "tf.reset_default_graph()\n",
    "\n",
    "g = tf.get_default_graph()\n",
    "ops = g.get_operations()\n",
    "for op in ops:\n",
    "    print(op.name)\n",
    "print('-'*50)\n",
    "\n",
    "a = tf.constant(1, name='First')\n",
    "ops = g.get_operations()\n",
    "for op in ops:\n",
    "    print(op.name)\n",
    "print('-'*50)\n",
    "\n",
    "b = tf.constant(1, name='Second')\n",
    "ops = g.get_operations()\n",
    "for op in ops:\n",
    "    print(op.name)\n",
    "print('-'*50)\n",
    "\n",
    "c = tf.add(a, b, name='Third')\n",
    "ops = g.get_operations()\n",
    "for op in ops:\n",
    "    print(op.name)\n",
    "print('-'*50)"
   ]
  },
  {
   "cell_type": "markdown",
   "metadata": {},
   "source": [
    "# Operation Inputs"
   ]
  },
  {
   "cell_type": "code",
   "execution_count": 37,
   "metadata": {},
   "outputs": [
    {
     "name": "stdout",
     "output_type": "stream",
     "text": [
      "--------------------------------------------------\n",
      "<tensorflow.python.framework.ops.Operation._InputList object at 0x7fcd489a14d0>\n",
      "--------------------------------------------------\n",
      "<tensorflow.python.framework.ops.Operation._InputList object at 0x7fcd489a14d0>\n",
      "<tensorflow.python.framework.ops.Operation._InputList object at 0x7fcd489ac3d0>\n",
      "--------------------------------------------------\n",
      "<tensorflow.python.framework.ops.Operation._InputList object at 0x7fcd489a14d0>\n",
      "<tensorflow.python.framework.ops.Operation._InputList object at 0x7fcd489ac3d0>\n",
      "<tensorflow.python.framework.ops.Operation._InputList object at 0x7fccfad4b750>\n",
      "--------------------------------------------------\n"
     ]
    }
   ],
   "source": [
    "import tensorflow.compat.v1 as tf; tf.disable_v2_behavior() \n",
    "tf.reset_default_graph()\n",
    "\n",
    "g = tf.get_default_graph()\n",
    "ops = g.get_operations()\n",
    "for op in ops:\n",
    "    print(op.inputs)\n",
    "print('-'*50)\n",
    "\n",
    "a = tf.constant(1)\n",
    "ops = g.get_operations()\n",
    "for op in ops:\n",
    "    print(op.inputs)\n",
    "print('-'*50)\n",
    "\n",
    "b = tf.constant(1)\n",
    "ops = g.get_operations()\n",
    "for op in ops:\n",
    "    print(op.inputs)\n",
    "print('-'*50)\n",
    "\n",
    "c = a + b\n",
    "ops = g.get_operations()\n",
    "for op in ops:\n",
    "    print(op.inputs)\n",
    "print('-'*50)"
   ]
  },
  {
   "cell_type": "markdown",
   "metadata": {},
   "source": [
    "# Operation Outputs"
   ]
  },
  {
   "cell_type": "code",
   "execution_count": 42,
   "metadata": {},
   "outputs": [
    {
     "name": "stdout",
     "output_type": "stream",
     "text": [
      "--------------------------------------------------\n",
      "[<tf.Tensor 'Const:0' shape=() dtype=int32>]\n",
      "--------------------------------------------------\n",
      "[<tf.Tensor 'Const:0' shape=() dtype=int32>]\n",
      "[<tf.Tensor 'Const_1:0' shape=() dtype=int32>]\n",
      "--------------------------------------------------\n",
      "[<tf.Tensor 'Const:0' shape=() dtype=int32>]\n",
      "[<tf.Tensor 'Const_1:0' shape=() dtype=int32>]\n",
      "[<tf.Tensor 'add:0' shape=() dtype=int32>]\n",
      "--------------------------------------------------\n"
     ]
    }
   ],
   "source": [
    "import tensorflow.compat.v1 as tf; tf.disable_v2_behavior() \n",
    "tf.reset_default_graph()\n",
    "\n",
    "g = tf.get_default_graph()\n",
    "ops = g.get_operations()\n",
    "for op in ops:\n",
    "    print(op.outputs)\n",
    "print('-'*50)\n",
    "\n",
    "a = tf.constant(1) # Const\n",
    "ops = g.get_operations()\n",
    "for op in ops:\n",
    "    print(op.outputs) # Const:0\n",
    "print('-'*50)\n",
    "\n",
    "b = tf.constant(1)\n",
    "ops = g.get_operations()\n",
    "for op in ops:\n",
    "    print(op.outputs)\n",
    "print('-'*50)\n",
    "\n",
    "c = a + b\n",
    "ops = g.get_operations()\n",
    "for op in ops:\n",
    "    print(op.outputs)\n",
    "print('-'*50)"
   ]
  },
  {
   "cell_type": "markdown",
   "metadata": {},
   "source": [
    "# Operation Input Tensors"
   ]
  },
  {
   "cell_type": "code",
   "execution_count": 46,
   "metadata": {},
   "outputs": [
    {
     "name": "stdout",
     "output_type": "stream",
     "text": [
      "--------------------------------------------------\n",
      "--------------------------------------------------\n",
      "--------------------------------------------------\n",
      "Tensor(\"Const:0\", shape=(), dtype=int32) Const:0 () <dtype: 'int32'>\n",
      "Tensor(\"Const_1:0\", shape=(), dtype=int32) Const_1:0 () <dtype: 'int32'>\n",
      "--------------------------------------------------\n"
     ]
    }
   ],
   "source": [
    "import tensorflow.compat.v1 as tf; tf.disable_v2_behavior() \n",
    "tf.reset_default_graph()\n",
    "\n",
    "g = tf.get_default_graph()\n",
    "ops = g.get_operations()\n",
    "for op in ops:\n",
    "    for tensor in op.inputs:\n",
    "        print(tensor, tensor.name, tensor.shape, tensor.dtype)\n",
    "print('-'*50)\n",
    "\n",
    "a = tf.constant(1)\n",
    "ops = g.get_operations()\n",
    "for op in ops:\n",
    "    for tensor in op.inputs:\n",
    "        print(tensor, tensor.name, tensor.shape, tensor.dtype)\n",
    "print('-'*50)\n",
    "\n",
    "b = tf.constant(1)\n",
    "ops = g.get_operations()\n",
    "for op in ops:\n",
    "    for tensor in op.inputs:\n",
    "        print(tensor, tensor.name, tensor.shape, tensor.dtype)\n",
    "print('-'*50)\n",
    "\n",
    "c = a + b\n",
    "ops = g.get_operations()\n",
    "for op in ops:\n",
    "    for tensor in op.inputs:\n",
    "        print(tensor, tensor.name, tensor.shape, tensor.dtype)\n",
    "print('-'*50)"
   ]
  },
  {
   "cell_type": "markdown",
   "metadata": {},
   "source": [
    "# Operation Output Tensors"
   ]
  },
  {
   "cell_type": "code",
   "execution_count": 50,
   "metadata": {},
   "outputs": [
    {
     "name": "stdout",
     "output_type": "stream",
     "text": [
      "--------------------------------------------------\n",
      "Tensor(\"Const:0\", shape=(), dtype=int32) Const:0 () <dtype: 'int32'>\n",
      "--------------------------------------------------\n",
      "Tensor(\"Const:0\", shape=(), dtype=int32) Const:0 () <dtype: 'int32'>\n",
      "Tensor(\"Const_1:0\", shape=(), dtype=int32) Const_1:0 () <dtype: 'int32'>\n",
      "--------------------------------------------------\n",
      "Tensor(\"Const:0\", shape=(), dtype=int32) Const:0 () <dtype: 'int32'>\n",
      "Tensor(\"Const_1:0\", shape=(), dtype=int32) Const_1:0 () <dtype: 'int32'>\n",
      "Tensor(\"add:0\", shape=(), dtype=int32) add:0 () <dtype: 'int32'>\n",
      "--------------------------------------------------\n"
     ]
    }
   ],
   "source": [
    "import tensorflow.compat.v1 as tf; tf.disable_v2_behavior() \n",
    "tf.reset_default_graph()\n",
    "\n",
    "g = tf.get_default_graph()\n",
    "ops = g.get_operations()\n",
    "for op in ops:\n",
    "    for tensor in op.outputs:\n",
    "        print(tensor, tensor.name, tensor.shape, tensor.dtype)\n",
    "print('-'*50)\n",
    "\n",
    "a = tf.constant(1)\n",
    "ops = g.get_operations()\n",
    "for op in ops:\n",
    "    for tensor in op.outputs:\n",
    "        print(tensor, tensor.name, tensor.shape, tensor.dtype)\n",
    "print('-'*50)\n",
    "\n",
    "b = tf.constant(1)\n",
    "ops = g.get_operations()\n",
    "for op in ops:\n",
    "    for tensor in op.outputs:\n",
    "        print(tensor, tensor.name, tensor.shape, tensor.dtype)\n",
    "print('-'*50)\n",
    "\n",
    "c = a + b\n",
    "ops = g.get_operations()\n",
    "for op in ops:\n",
    "    for tensor in op.outputs:\n",
    "        print(tensor, tensor.name, tensor.shape, tensor.dtype)\n",
    "print('-'*50)"
   ]
  },
  {
   "cell_type": "markdown",
   "metadata": {},
   "source": [
    "# What's tf.reset_default_graph()"
   ]
  },
  {
   "cell_type": "code",
   "execution_count": 12,
   "metadata": {},
   "outputs": [
    {
     "name": "stdout",
     "output_type": "stream",
     "text": [
      "Const\n",
      "Const_1\n",
      "add\n"
     ]
    }
   ],
   "source": [
    "import tensorflow.compat.v1 as tf; tf.disable_v2_behavior() \n",
    "tf.reset_default_graph()\n",
    "\n",
    "a = tf.constant(1)\n",
    "b = tf.constant(1)\n",
    "c = a + b\n",
    "\n",
    "g = tf.get_default_graph()\n",
    "ops = g.get_operations()\n",
    "for op in ops:\n",
    "    print(op.name)"
   ]
  },
  {
   "cell_type": "code",
   "execution_count": null,
   "metadata": {},
   "outputs": [],
   "source": []
  }
 ],
 "metadata": {
  "kernelspec": {
   "display_name": "Python 3",
   "language": "python",
   "name": "python3"
  },
  "language_info": {
   "codemirror_mode": {
    "name": "ipython",
    "version": 3
   },
   "file_extension": ".py",
   "mimetype": "text/x-python",
   "name": "python",
   "nbconvert_exporter": "python",
   "pygments_lexer": "ipython3",
   "version": "3.7.7"
  }
 },
 "nbformat": 4,
 "nbformat_minor": 4
}
