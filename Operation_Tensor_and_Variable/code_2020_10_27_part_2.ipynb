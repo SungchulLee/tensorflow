{
 "cells": [
  {
   "cell_type": "code",
   "execution_count": 1,
   "metadata": {},
   "outputs": [
    {
     "data": {
      "image/png": "[encoded data removed]",
      "text/plain": [
       "<Figure size 432x288 with 1 Axes>"
      ]
     },
     "metadata": {
      "needs_background": "light"
     },
     "output_type": "display_data"
    }
   ],
   "source": [
    "import numpy as np\n",
    "import matplotlib.pyplot as plt\n",
    "\n",
    "x_data = np.random.uniform(size=(100,1)) # (100,1)\n",
    "noise = np.random.normal(size=(100,1))   # (100,1)\n",
    "y_data = 2 * x_data + 1 + 0.4 * noise    # (100,1)   \n",
    "\n",
    "plt.plot(x_data.reshape((-1,)), y_data.reshape((-1,)), 'o')\n",
    "plt.show()"
   ]
  },
  {
   "cell_type": "code",
   "execution_count": 9,
   "metadata": {},
   "outputs": [
    {
     "name": "stdout",
     "output_type": "stream",
     "text": [
      "<tf.Variable 'beta:0' shape=(1, 1) dtype=float32_ref>\n",
      "Placeholder --------------------------------------------------\n",
      "Placeholder_1 --------------------------------------------------\n",
      "beta/Initializer/ones --------------------------------------------------\n",
      "beta --------------------------------------------------\n",
      "beta/Assign --------------------------------------------------\n",
      "Tensor(\"beta:0\", shape=(1, 1), dtype=float32_ref)\n",
      "Tensor(\"beta/Initializer/ones:0\", shape=(1, 1), dtype=float32)\n",
      "beta/read --------------------------------------------------\n",
      "Tensor(\"beta:0\", shape=(1, 1), dtype=float32_ref)\n",
      "matmul --------------------------------------------------\n",
      "Tensor(\"Placeholder:0\", shape=(100, 1), dtype=float32)\n",
      "Tensor(\"beta/read:0\", shape=(1, 1), dtype=float32)\n",
      "sub --------------------------------------------------\n",
      "Tensor(\"Placeholder_1:0\", shape=(100, 1), dtype=float32)\n",
      "Tensor(\"matmul:0\", shape=(100, 1), dtype=float32)\n",
      "L2Loss --------------------------------------------------\n",
      "Tensor(\"sub:0\", shape=(100, 1), dtype=float32)\n",
      "\n",
      "Placeholder --------------------------------------------------\n",
      "Tensor(\"Placeholder:0\", shape=(100, 1), dtype=float32)\n",
      "Placeholder_1 --------------------------------------------------\n",
      "Tensor(\"Placeholder_1:0\", shape=(100, 1), dtype=float32)\n",
      "beta/Initializer/ones --------------------------------------------------\n",
      "Tensor(\"beta/Initializer/ones:0\", shape=(1, 1), dtype=float32)\n",
      "beta --------------------------------------------------\n",
      "Tensor(\"beta:0\", shape=(1, 1), dtype=float32_ref)\n",
      "beta/Assign --------------------------------------------------\n",
      "Tensor(\"beta/Assign:0\", shape=(1, 1), dtype=float32_ref)\n",
      "beta/read --------------------------------------------------\n",
      "Tensor(\"beta/read:0\", shape=(1, 1), dtype=float32)\n",
      "matmul --------------------------------------------------\n",
      "Tensor(\"matmul:0\", shape=(100, 1), dtype=float32)\n",
      "sub --------------------------------------------------\n",
      "Tensor(\"sub:0\", shape=(100, 1), dtype=float32)\n",
      "L2Loss --------------------------------------------------\n",
      "Tensor(\"L2Loss:0\", shape=(), dtype=float32)\n"
     ]
    }
   ],
   "source": [
    "import tensorflow as tf\n",
    "tf.reset_default_graph()\n",
    "\n",
    "x = tf.placeholder(tf.float32, (100,1)) # x <---- x_data\n",
    "y = tf.placeholder(tf.float32, (100,1)) # y <---- y_data\n",
    "\n",
    "init_beta = tf.keras.initializers.ones()\n",
    "beta = tf.get_variable('beta', (1,1), tf.float32, init_beta)\n",
    "print(beta) # <tf.Variable 'beta:0' shape=(1, 1) dtype=float32_ref>\n",
    "\n",
    "y_pred = x @ beta # (100,1) @ (1,1) = (100,1) \n",
    "\n",
    "diff = y - y_pred # (100,1) - (100,1) = (100,1)\n",
    "loss = tf.nn.l2_loss(diff)\n",
    "\n",
    "g = tf.get_default_graph()\n",
    "ops = g.get_operations()\n",
    "for op in ops:\n",
    "    print(op.name, '-'*50)\n",
    "    for tensor in op.inputs:\n",
    "        print(tensor)\n",
    "print()\n",
    "\n",
    "g = tf.get_default_graph()\n",
    "ops = g.get_operations()\n",
    "for op in ops:\n",
    "    print(op.name, '-'*50)\n",
    "    for tensor in op.outputs:\n",
    "        print(tensor)"
   ]
  },
  {
   "cell_type": "code",
   "execution_count": 10,
   "metadata": {},
   "outputs": [
    {
     "name": "stdout",
     "output_type": "stream",
     "text": [
      "<tf.Variable 'beta:0' shape=(1, 1) dtype=float32_ref>\n",
      "123.82466\n"
     ]
    }
   ],
   "source": [
    "import tensorflow as tf\n",
    "tf.reset_default_graph()\n",
    "\n",
    "x = tf.placeholder(tf.float32, (100,1)) # x <---- x_data\n",
    "y = tf.placeholder(tf.float32, (100,1)) # y <---- y_data\n",
    "\n",
    "init_beta = tf.keras.initializers.ones()\n",
    "beta = tf.get_variable('beta', (1,1), tf.float32, init_beta)\n",
    "print(beta) # <tf.Variable 'beta:0' shape=(1, 1) dtype=float32_ref>\n",
    "\n",
    "y_pred = x @ beta # (100,1) @ (1,1) = (100,1) \n",
    "\n",
    "diff = y - y_pred # (100,1) - (100,1) = (100,1)\n",
    "loss = tf.nn.l2_loss(diff)\n",
    "\n",
    "init = tf.global_variables_initializer()\n",
    "\n",
    "with tf.Session() as sess:\n",
    "    sess.run(init)\n",
    "    \n",
    "    loss_run = sess.run(loss, feed_dict={x: x_data, y: y_data})\n",
    "    print(loss_run)    "
   ]
  },
  {
   "cell_type": "code",
   "execution_count": 12,
   "metadata": {},
   "outputs": [
    {
     "data": {
      "text/plain": [
       "123.82465714201723"
      ]
     },
     "execution_count": 12,
     "metadata": {},
     "output_type": "execute_result"
    }
   ],
   "source": [
    "((y_data - x_data)**2).sum()/2"
   ]
  },
  {
   "cell_type": "code",
   "execution_count": null,
   "metadata": {},
   "outputs": [],
   "source": []
  }
 ],
 "metadata": {
  "kernelspec": {
   "display_name": "Python 3",
   "language": "python",
   "name": "python3"
  },
  "language_info": {
   "codemirror_mode": {
    "name": "ipython",
    "version": 3
   },
   "file_extension": ".py",
   "mimetype": "text/x-python",
   "name": "python",
   "nbconvert_exporter": "python",
   "pygments_lexer": "ipython3",
   "version": "3.7.7"
  }
 },
 "nbformat": 4,
 "nbformat_minor": 4
}
