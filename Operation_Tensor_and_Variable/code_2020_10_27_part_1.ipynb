{
 "cells": [
  {
   "cell_type": "code",
   "execution_count": 8,
   "metadata": {},
   "outputs": [],
   "source": [
    "if 1:\n",
    "    # 텐서플로어 버젼 1\n",
    "    import tensorflow as tf\n",
    "    tf.reset_default_graph()\n",
    "elif 1:\n",
    "    # 텐서플로어 버젼 2\n",
    "    import tensorflow.compat.v1 as tf; tf.disable_v2_behavior() \n",
    "    tf.reset_default_graph()"
   ]
  },
  {
   "cell_type": "code",
   "execution_count": 12,
   "metadata": {},
   "outputs": [
    {
     "name": "stdout",
     "output_type": "stream",
     "text": [
      "5\n"
     ]
    }
   ],
   "source": [
    "import tensorflow as tf\n",
    "tf.reset_default_graph()\n",
    "    \n",
    "a = tf.constant(2)\n",
    "b = tf.constant(3)\n",
    "c = a + b\n",
    "\n",
    "with tf.Session() as sess:\n",
    "    print(sess.run(c))"
   ]
  },
  {
   "cell_type": "code",
   "execution_count": 22,
   "metadata": {},
   "outputs": [
    {
     "name": "stdout",
     "output_type": "stream",
     "text": [
      "Tensor(\"Const:0\", shape=(), dtype=int32)\n",
      "Tensor(\"Const_1:0\", shape=(), dtype=int32)\n",
      "Tensor(\"add:0\", shape=(), dtype=int32)\n",
      "\n",
      "--------------------------------------------------\n",
      "Const --------------------------------------------------\n",
      "--------------------------------------------------\n",
      "Const_1 --------------------------------------------------\n",
      "--------------------------------------------------\n",
      "add --------------------------------------------------\n",
      "Tensor(\"Const:0\", shape=(), dtype=int32)\n",
      "Tensor(\"Const_1:0\", shape=(), dtype=int32)\n",
      "\n",
      "--------------------------------------------------\n",
      "Const --------------------------------------------------\n",
      "Tensor(\"Const:0\", shape=(), dtype=int32)\n",
      "--------------------------------------------------\n",
      "Const_1 --------------------------------------------------\n",
      "Tensor(\"Const_1:0\", shape=(), dtype=int32)\n",
      "--------------------------------------------------\n",
      "add --------------------------------------------------\n",
      "Tensor(\"add:0\", shape=(), dtype=int32)\n"
     ]
    }
   ],
   "source": [
    "import tensorflow as tf\n",
    "tf.reset_default_graph()\n",
    "    \n",
    "a = tf.constant(2) # operation name : Const\n",
    "b = tf.constant(3) # operation name : Const_1\n",
    "c = a + b          # operation name : add\n",
    "\n",
    "print(a) # Tensor(\"Const:0\", shape=(), dtype=int32)\n",
    "print(b) # Tensor(\"Const_1:0\", shape=(), dtype=int32)\n",
    "print(c) # Tensor(\"add:0\", shape=(), dtype=int32)\n",
    "print()\n",
    "\n",
    "g = tf.get_default_graph()\n",
    "ops = g.get_operations()\n",
    "\n",
    "for op in ops:\n",
    "    print('-'*50)\n",
    "    print(op.name, '-'*50)\n",
    "    for tensor in op.inputs:\n",
    "        print(tensor)\n",
    "print()\n",
    "\n",
    "for op in ops:\n",
    "    print('-'*50)\n",
    "    print(op.name, '-'*50)\n",
    "    for tensor in op.outputs:\n",
    "        print(tensor)"
   ]
  },
  {
   "cell_type": "code",
   "execution_count": 25,
   "metadata": {},
   "outputs": [
    {
     "name": "stdout",
     "output_type": "stream",
     "text": [
      "Tensor(\"first_constant:0\", shape=(), dtype=int32)\n",
      "Tensor(\"second_constant:0\", shape=(), dtype=int32)\n",
      "Tensor(\"last_add:0\", shape=(), dtype=int32)\n",
      "\n",
      "--------------------------------------------------\n",
      "first_constant --------------------------------------------------\n",
      "--------------------------------------------------\n",
      "second_constant --------------------------------------------------\n",
      "--------------------------------------------------\n",
      "last_add --------------------------------------------------\n",
      "Tensor(\"first_constant:0\", shape=(), dtype=int32)\n",
      "Tensor(\"second_constant:0\", shape=(), dtype=int32)\n",
      "\n",
      "--------------------------------------------------\n",
      "first_constant --------------------------------------------------\n",
      "Tensor(\"first_constant:0\", shape=(), dtype=int32)\n",
      "--------------------------------------------------\n",
      "second_constant --------------------------------------------------\n",
      "Tensor(\"second_constant:0\", shape=(), dtype=int32)\n",
      "--------------------------------------------------\n",
      "last_add --------------------------------------------------\n",
      "Tensor(\"last_add:0\", shape=(), dtype=int32)\n"
     ]
    }
   ],
   "source": [
    "import tensorflow as tf\n",
    "tf.reset_default_graph()\n",
    "    \n",
    "a = tf.constant(2, name='first_constant') \n",
    "b = tf.constant(3, name='second_constant') \n",
    "c = tf.add(a, b, name='last_add')         \n",
    "\n",
    "print(a) # Tensor(\"Const:0\", shape=(), dtype=int32)\n",
    "print(b) # Tensor(\"Const_1:0\", shape=(), dtype=int32)\n",
    "print(c) # Tensor(\"add:0\", shape=(), dtype=int32)\n",
    "print()\n",
    "\n",
    "g = tf.get_default_graph()\n",
    "ops = g.get_operations()\n",
    "\n",
    "for op in ops:\n",
    "    print('-'*50)\n",
    "    print(op.name, '-'*50)\n",
    "    for tensor in op.inputs:\n",
    "        print(tensor)\n",
    "print()\n",
    "\n",
    "for op in ops:\n",
    "    print('-'*50)\n",
    "    print(op.name, '-'*50)\n",
    "    for tensor in op.outputs:\n",
    "        print(tensor)"
   ]
  },
  {
   "cell_type": "code",
   "execution_count": 10,
   "metadata": {},
   "outputs": [
    {
     "name": "stdout",
     "output_type": "stream",
     "text": [
      "Const --------------------------------------------------\n",
      "Const_1 --------------------------------------------------\n",
      "Add --------------------------------------------------\n",
      "Tensor(\"Const:0\", shape=(), dtype=int32)\n",
      "Tensor(\"Const_1:0\", shape=(), dtype=int32)\n",
      "Mul --------------------------------------------------\n",
      "Tensor(\"Const:0\", shape=(), dtype=int32)\n",
      "Tensor(\"Const_1:0\", shape=(), dtype=int32)\n"
     ]
    }
   ],
   "source": [
    "import tensorflow as tf\n",
    "tf.reset_default_graph()\n",
    "    \n",
    "a = tf.constant(2) \n",
    "b = tf.constant(3) \n",
    "c = tf.add(a, b) \n",
    "d = tf.multiply(a, b)\n",
    "\n",
    "g = tf.get_default_graph()\n",
    "ops = g.get_operations()\n",
    "for op in ops:\n",
    "    print(op.name, '-'*50)\n",
    "    for tensor in op.inputs:\n",
    "        print(tensor)"
   ]
  },
  {
   "cell_type": "code",
   "execution_count": 12,
   "metadata": {},
   "outputs": [
    {
     "name": "stdout",
     "output_type": "stream",
     "text": [
      "5 6\n"
     ]
    }
   ],
   "source": [
    "import tensorflow as tf\n",
    "tf.reset_default_graph()\n",
    "    \n",
    "a = tf.constant(2) \n",
    "b = tf.constant(3) \n",
    "c = tf.add(a, b)      # 5 \n",
    "d = tf.multiply(a, b) # 6\n",
    "\n",
    "with tf.Session() as sess:\n",
    "    c_run, d_run = sess.run([c, d])\n",
    "    print(c_run, d_run)"
   ]
  },
  {
   "cell_type": "code",
   "execution_count": null,
   "metadata": {},
   "outputs": [],
   "source": []
  },
  {
   "cell_type": "code",
   "execution_count": null,
   "metadata": {},
   "outputs": [],
   "source": []
  }
 ],
 "metadata": {
  "kernelspec": {
   "display_name": "Python 3",
   "language": "python",
   "name": "python3"
  },
  "language_info": {
   "codemirror_mode": {
    "name": "ipython",
    "version": 3
   },
   "file_extension": ".py",
   "mimetype": "text/x-python",
   "name": "python",
   "nbconvert_exporter": "python",
   "pygments_lexer": "ipython3",
   "version": "3.7.7"
  }
 },
 "nbformat": 4,
 "nbformat_minor": 4
}
